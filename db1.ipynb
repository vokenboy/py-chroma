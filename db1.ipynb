{
 "cells": [
  {
   "cell_type": "code",
   "execution_count": 13,
   "id": "02cf3c6a",
   "metadata": {},
   "outputs": [],
   "source": [
    "import chromadb\n",
    "import json\n",
    "import csv\n",
    "import uuid\n",
    "import os"
   ]
  },
  {
   "cell_type": "code",
   "execution_count": null,
   "id": "042eb0ae",
   "metadata": {},
   "outputs": [],
   "source": [
    "dbvs1 = chromadb.HttpClient(host=\"localhost\", port=8000)\n",
    "dbvs2 = chromadb.HttpClient(host=\"localhost\", port=8001)\n"
   ]
  },
  {
   "cell_type": "code",
   "execution_count": null,
   "id": "a3bef54d",
   "metadata": {},
   "outputs": [],
   "source": [
    "INTERNAL_DATA = \"./internal\"\n",
    "EXTERNAL_DATA = \"./external\"\n",
    "INTERNAL_DATA_COPY = \"./internal_copy\"\n",
    "EXTERNAL_DATA_COPY = \"./external_copy\"\n",
    "\n",
    "internal = [\n",
    "    \"courses\",\n",
    "    \"documents\",\n",
    "    \"exam\",\n",
    "    \"programs\",\n",
    "    \"students\"\n",
    "]\n",
    "\n",
    "external = [\n",
    "    \"professor_reviews\",\n",
    "    \"students\",\n",
    "    \"support_tickets\",\n",
    "    \"support_responses\",\n",
    "]"
   ]
  },
  {
   "cell_type": "code",
   "execution_count": null,
   "id": "f53aa1e0",
   "metadata": {},
   "outputs": [],
   "source": [
    "def import_csv_to_chroma(client, base_folder, collection_name, filename, label):\n",
    "    \"\"\"Import CSV data into a specific ChromaDB collection.\"\"\"\n",
    "    filepath = os.path.join(base_folder, filename)\n",
    "    if not os.path.exists(filepath):\n",
    "        print(f\"⚠️ Skipping {collection_name}, file {filepath} not found.\")\n",
    "        return\n",
    "\n",
    "    try:\n",
    "        client.delete_collection(collection_name)\n",
    "        print(f\"🗑️ Old '{collection_name}' collection deleted ({label}).\")\n",
    "    except Exception:\n",
    "        print(f\"ℹ️ No existing '{collection_name}' collection found ({label}), creating new one...\")\n",
    "\n",
    "    # Create or get collection\n",
    "    collection = client.get_or_create_collection(collection_name)\n",
    "\n",
    "    # Read and import data\n",
    "    ids, documents, metadatas = [], [], []\n",
    "    with open(filepath, \"r\", encoding=\"utf-8\") as f:\n",
    "        reader = csv.DictReader(f)\n",
    "        for row in reader:\n",
    "            try:\n",
    "                ids.append(str(uuid.uuid4()))\n",
    "                documents.append(row[\"document\"].strip())\n",
    "                metadatas.append(json.loads(row[\"metadata\"]))\n",
    "            except Exception as e:\n",
    "                print(f\"❌ Error reading row in {filename}: {e}\")\n",
    "\n",
    "    if documents:\n",
    "        collection.add(ids=ids, documents=documents, metadatas=metadatas)\n",
    "        print(f\"✅ Imported {len(documents)} records into '{collection_name}' ({label}).\")\n",
    "    else:\n",
    "        print(f\"⚠️ No valid rows found in {filename}.\")\n"
   ]
  },
  {
   "cell_type": "code",
   "execution_count": 24,
   "id": "2ba226ef",
   "metadata": {},
   "outputs": [
    {
     "name": "stdout",
     "output_type": "stream",
     "text": [
      "📦 Importing FRAGMENT 1 (dbvs1:8000)...\n",
      "🗑️ Old 'courses' collection deleted (Fragment 1).\n",
      "✅ Imported 10 records into 'courses' (Fragment 1).\n",
      "🗑️ Old 'documents' collection deleted (Fragment 1).\n",
      "✅ Imported 10 records into 'documents' (Fragment 1).\n",
      "🗑️ Old 'exam' collection deleted (Fragment 1).\n",
      "✅ Imported 10 records into 'exam' (Fragment 1).\n",
      "🗑️ Old 'programs' collection deleted (Fragment 1).\n",
      "✅ Imported 10 records into 'programs' (Fragment 1).\n",
      "🗑️ Old 'students' collection deleted (Fragment 1).\n",
      "✅ Imported 1 records into 'students' (Fragment 1).\n",
      "🗑️ Old 'professor_reviews' collection deleted (Fragment 1).\n",
      "✅ Imported 10 records into 'professor_reviews' (Fragment 1).\n",
      "🗑️ Old 'students' collection deleted (Fragment 1).\n",
      "✅ Imported 1 records into 'students' (Fragment 1).\n",
      "🗑️ Old 'support_tickets' collection deleted (Fragment 1).\n",
      "✅ Imported 10 records into 'support_tickets' (Fragment 1).\n",
      "🗑️ Old 'support_responses' collection deleted (Fragment 1).\n",
      "✅ Imported 10 records into 'support_responses' (Fragment 1).\n"
     ]
    }
   ],
   "source": [
    "print(\"📦 Importing FRAGMENT 1 (dbvs1:8000)...\")\n",
    "\n",
    "for name in internal:\n",
    "    filename = f\"{name}.csv\"\n",
    "    import_csv_to_chroma(dbvs1, INTERNAL_DATA, name, filename, \"Fragment 1\")\n",
    "\n",
    "for name in external:\n",
    "    filename = f\"{name}.csv\"\n",
    "    import_csv_to_chroma(dbvs1, EXTERNAL_DATA, name, filename, \"Fragment 1\")"
   ]
  },
  {
   "cell_type": "code",
   "execution_count": 22,
   "id": "883c1d82",
   "metadata": {},
   "outputs": [
    {
     "name": "stdout",
     "output_type": "stream",
     "text": [
      "\n",
      "📦 Importing FRAGMENT 2 (dbvs2:8001)...\n",
      "ℹ️ No existing 'courses' collection found (Fragment 2), creating new one...\n",
      "✅ Imported 10 records into 'courses' (Fragment 2).\n",
      "ℹ️ No existing 'documents' collection found (Fragment 2), creating new one...\n",
      "✅ Imported 10 records into 'documents' (Fragment 2).\n",
      "ℹ️ No existing 'exam' collection found (Fragment 2), creating new one...\n",
      "✅ Imported 10 records into 'exam' (Fragment 2).\n",
      "ℹ️ No existing 'programs' collection found (Fragment 2), creating new one...\n",
      "✅ Imported 10 records into 'programs' (Fragment 2).\n",
      "ℹ️ No existing 'students' collection found (Fragment 2), creating new one...\n",
      "✅ Imported 1 records into 'students' (Fragment 2).\n",
      "ℹ️ No existing 'professor_reviews' collection found (Fragment 2), creating new one...\n",
      "✅ Imported 10 records into 'professor_reviews' (Fragment 2).\n",
      "🗑️ Old 'students' collection deleted (Fragment 2).\n",
      "✅ Imported 1 records into 'students' (Fragment 2).\n",
      "ℹ️ No existing 'support_tickets' collection found (Fragment 2), creating new one...\n",
      "✅ Imported 10 records into 'support_tickets' (Fragment 2).\n",
      "ℹ️ No existing 'support_responses' collection found (Fragment 2), creating new one...\n",
      "✅ Imported 10 records into 'support_responses' (Fragment 2).\n"
     ]
    }
   ],
   "source": [
    "print(\"\\n📦 Importing FRAGMENT 2 (dbvs2:8001)...\")\n",
    "\n",
    "for name in internal:\n",
    "    filename = f\"{name}.csv\"\n",
    "    import_csv_to_chroma(dbvs2, INTERNAL_DATA_COPY, name, filename, \"Fragment 2\")\n",
    "\n",
    "for name in external:\n",
    "    filename = f\"{name}.csv\"\n",
    "    import_csv_to_chroma(dbvs2, EXTERNAL_DATA_COPY, name, filename, \"Fragment 2\")"
   ]
  },
  {
   "cell_type": "code",
   "execution_count": null,
   "id": "d8f2cce1",
   "metadata": {},
   "outputs": [],
   "source": []
  }
 ],
 "metadata": {
  "kernelspec": {
   "display_name": "venv",
   "language": "python",
   "name": "python3"
  },
  "language_info": {
   "codemirror_mode": {
    "name": "ipython",
    "version": 3
   },
   "file_extension": ".py",
   "mimetype": "text/x-python",
   "name": "python",
   "nbconvert_exporter": "python",
   "pygments_lexer": "ipython3",
   "version": "3.12.10"
  }
 },
 "nbformat": 4,
 "nbformat_minor": 5
}
