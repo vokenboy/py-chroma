{
 "cells": [
  {
   "cell_type": "code",
   "execution_count": 2,
   "id": "02cf3c6a",
   "metadata": {},
   "outputs": [],
   "source": [
    "import chromadb\n",
    "import json\n",
    "import csv\n",
    "import uuid\n",
    "import os"
   ]
  },
  {
   "cell_type": "code",
   "execution_count": 3,
   "id": "042eb0ae",
   "metadata": {},
   "outputs": [],
   "source": [
    "client = chromadb.HttpClient(host=\"localhost\", port=8000)"
   ]
  },
  {
   "cell_type": "code",
   "execution_count": 4,
   "id": "a3bef54d",
   "metadata": {},
   "outputs": [
    {
     "name": "stdout",
     "output_type": "stream",
     "text": [
      "📦 Collections to import: ['support_responses', 'support_tickets', 'documents', 'courses', 'exam', 'programs', 'successors', 'professor_reviews']\n"
     ]
    }
   ],
   "source": [
    "DATA_FOLDER = \"./data\"\n",
    "\n",
    "collections = [\n",
    "    \"support_responses\",\n",
    "    \"support_tickets\",\n",
    "    \"documents\",\n",
    "    \"courses\",\n",
    "    \"exam\",\n",
    "    \"programs\",\n",
    "    \"successors\",\n",
    "    \"professor_reviews\",\n",
    "]\n",
    "\n",
    "print(\"📦 Collections to import:\", collections)"
   ]
  },
  {
   "cell_type": "code",
   "execution_count": 5,
   "id": "f53aa1e0",
   "metadata": {},
   "outputs": [],
   "source": [
    "def import_csv_to_chroma(collection_name, filename):\n",
    "    filepath = os.path.join(DATA_FOLDER, filename)\n",
    "    if not os.path.exists(filepath):\n",
    "        print(f\"⚠️ Skipping {collection_name}, file {filename} not found.\")\n",
    "        return\n",
    "\n",
    "    try:\n",
    "        client.delete_collection(collection_name)\n",
    "        print(f\"🗑️ Old '{collection_name}' collection deleted.\")\n",
    "    except Exception:\n",
    "        print(f\"ℹ️ No existing '{collection_name}' collection found, creating new one...\")\n",
    "\n",
    "    collection = client.get_or_create_collection(collection_name)\n",
    "\n",
    "    ids, documents, metadatas = [], [], []\n",
    "    with open(filepath, \"r\", encoding=\"utf-8\") as f:\n",
    "        reader = csv.DictReader(f)\n",
    "        for row in reader:\n",
    "            try:\n",
    "                ids.append(str(uuid.uuid4()))\n",
    "                documents.append(row[\"document\"].strip())\n",
    "                metadatas.append(json.loads(row[\"metadata\"]))\n",
    "            except Exception as e:\n",
    "                print(f\"❌ Error reading row: {e}\")\n",
    "\n",
    "    if documents:\n",
    "        collection.add(ids=ids, documents=documents, metadatas=metadatas)\n",
    "        print(f\"✅ Imported {len(documents)} records into '{collection_name}'.\")\n",
    "    else:\n",
    "        print(f\"⚠️ No valid rows found in {filename}.\")\n",
    "\n",
    "    return collection"
   ]
  },
  {
   "cell_type": "code",
   "execution_count": 6,
   "id": "2ba226ef",
   "metadata": {},
   "outputs": [
    {
     "name": "stdout",
     "output_type": "stream",
     "text": [
      "🗑️ Old 'support_responses' collection deleted.\n",
      "✅ Imported 10 records into 'support_responses'.\n",
      "🗑️ Old 'support_tickets' collection deleted.\n",
      "✅ Imported 10 records into 'support_tickets'.\n",
      "🗑️ Old 'documents' collection deleted.\n",
      "✅ Imported 10 records into 'documents'.\n",
      "🗑️ Old 'courses' collection deleted.\n",
      "✅ Imported 10 records into 'courses'.\n",
      "🗑️ Old 'exam' collection deleted.\n",
      "✅ Imported 10 records into 'exam'.\n",
      "🗑️ Old 'programs' collection deleted.\n",
      "✅ Imported 10 records into 'programs'.\n",
      "🗑️ Old 'successors' collection deleted.\n",
      "✅ Imported 10 records into 'successors'.\n",
      "🗑️ Old 'professor_reviews' collection deleted.\n",
      "✅ Imported 10 records into 'professor_reviews'.\n",
      "\n",
      "🎉 All CSV files imported into Chroma collections!\n"
     ]
    }
   ],
   "source": [
    "for name in collections:\n",
    "    filename = f\"{name}.csv\"\n",
    "    import_csv_to_chroma(name, filename)\n",
    "\n",
    "print(\"\\n🎉 All CSV files imported into Chroma collections!\")"
   ]
  }
 ],
 "metadata": {
  "kernelspec": {
   "display_name": "venv",
   "language": "python",
   "name": "python3"
  },
  "language_info": {
   "codemirror_mode": {
    "name": "ipython",
    "version": 3
   },
   "file_extension": ".py",
   "mimetype": "text/x-python",
   "name": "python",
   "nbconvert_exporter": "python",
   "pygments_lexer": "ipython3",
   "version": "3.12.10"
  }
 },
 "nbformat": 4,
 "nbformat_minor": 5
}
